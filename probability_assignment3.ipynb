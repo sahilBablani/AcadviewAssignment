{
 "cells": [
  {
   "cell_type": "code",
   "execution_count": 2,
   "metadata": {},
   "outputs": [
    {
     "name": "stdout",
     "output_type": "stream",
     "text": [
      "P(A): 0.305556\n",
      "P(B): 0.166667\n",
      "P(A|B): 0.05555555555555555\n"
     ]
    },
    {
     "data": {
      "text/plain": [
       "0.0303030303030303"
      ]
     },
     "execution_count": 2,
     "metadata": {},
     "output_type": "execute_result"
    }
   ],
   "source": [
    "#Q.1 - Consider the below given probabilities: \n",
    "#P(A) = 11 / 36\n",
    "#P(B) = 6 / 36\n",
    "#P(A|B) = 2 / 36\n",
    "#Write a function in Python which takes 3 probabilities as argument and outputs the Conditional probability P(B|A).\n",
    "from fractions import Fraction\n",
    "def prob(A, B, C):\n",
    "    print(\"P(A): %f\" %(A))\n",
    "    print(\"P(B): %f\" %(B))\n",
    "    print(\"P(A|B): %s\" %(C))\n",
    "    cond_prob=(C*B)/A\n",
    "    return cond_prob\n",
    "    \n",
    "prob(11.0/36,6.0/36,2.0/36)"
   ]
  },
  {
   "cell_type": "code",
   "execution_count": 3,
   "metadata": {},
   "outputs": [
    {
     "name": "stdout",
     "output_type": "stream",
     "text": [
      "0.5833333333333334\n"
     ]
    }
   ],
   "source": [
    "#Question 2 \n",
    "\n",
    "#bag 1 with 4 white and 6 black balls\n",
    "#bag 2 with 4 white and 3 black balls\n",
    "bag1=1.0/2 #probability of selecting bag1\n",
    "bag2=1.0/2 #probability of selecting bag2\n",
    "black1=6.0/10 #probability of selecting black from bag1\n",
    "black2=3.0/7 #probability of selecting black from bag2\n",
    "prob=(bag1*black1)/((bag1*black1)+(bag2*black2))\n",
    "print(prob)"
   ]
  },
  {
   "cell_type": "code",
   "execution_count": 4,
   "metadata": {},
   "outputs": [
    {
     "name": "stdout",
     "output_type": "stream",
     "text": [
      "0.2857142857142857\n"
     ]
    }
   ],
   "source": [
    "#Q.3 - A man is known to speak truth 2 out of 3 times. \n",
    "#He throws a die and reports that number obtained is a four. \n",
    "#Find the probability that the number obtained is actually a four.\n",
    "Truth = 2.0/3\n",
    "Lie = 1.0/3\n",
    "four = 1.0/6\n",
    "nofour = 5.0/6\n",
    "prob = (Truth * four) / ((Truth * four) + (Lie * nofour))\n",
    "print (prob)"
   ]
  },
  {
   "cell_type": "code",
   "execution_count": null,
   "metadata": {},
   "outputs": [],
   "source": []
  }
 ],
 "metadata": {
  "kernelspec": {
   "display_name": "Python 3",
   "language": "python",
   "name": "python3"
  },
  "language_info": {
   "codemirror_mode": {
    "name": "ipython",
    "version": 3
   },
   "file_extension": ".py",
   "mimetype": "text/x-python",
   "name": "python",
   "nbconvert_exporter": "python",
   "pygments_lexer": "ipython3",
   "version": "3.6.5"
  }
 },
 "nbformat": 4,
 "nbformat_minor": 2
}

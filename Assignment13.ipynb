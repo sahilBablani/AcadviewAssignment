{
 "cells": [
  {
   "cell_type": "code",
   "execution_count": 1,
   "metadata": {},
   "outputs": [],
   "source": [
    "import numpy as np\n",
    "import pandas as pd\n"
   ]
  },
  {
   "cell_type": "code",
   "execution_count": 3,
   "metadata": {},
   "outputs": [],
   "source": [
    "from sklearn.datasets import load_digits\n"
   ]
  },
  {
   "cell_type": "code",
   "execution_count": 4,
   "metadata": {},
   "outputs": [],
   "source": [
    "digits = load_digits()"
   ]
  },
  {
   "cell_type": "code",
   "execution_count": 6,
   "metadata": {},
   "outputs": [],
   "source": [
    "f= pd.DataFrame(digits.data)\n",
    "t = pd.DataFrame(digits.target)"
   ]
  },
  {
   "cell_type": "code",
   "execution_count": 7,
   "metadata": {},
   "outputs": [],
   "source": [
    "from sklearn.model_selection import train_test_split"
   ]
  },
  {
   "cell_type": "code",
   "execution_count": 8,
   "metadata": {},
   "outputs": [],
   "source": [
    "X=f\n",
    "y=t"
   ]
  },
  {
   "cell_type": "code",
   "execution_count": 9,
   "metadata": {},
   "outputs": [],
   "source": [
    "X_train, X_test, y_train, y_test = train_test_split(X, y, test_size=0.33, random_state=42)\n"
   ]
  },
  {
   "cell_type": "code",
   "execution_count": 10,
   "metadata": {},
   "outputs": [],
   "source": [
    "from sklearn.svm import SVC\n",
    "from sklearn.metrics import classification_report,confusion_matrix"
   ]
  },
  {
   "cell_type": "code",
   "execution_count": 12,
   "metadata": {},
   "outputs": [
    {
     "name": "stdout",
     "output_type": "stream",
     "text": [
      "kernel = 'linear'\n",
      "\n",
      "Confusion Matrix:\n",
      " [[55  0  0  0  0  0  0  0  0  0]\n",
      " [ 0 53  0  0  1  0  0  0  1  0]\n",
      " [ 0  0 52  0  0  0  0  0  0  0]\n",
      " [ 0  0  0 54  0  1  0  0  1  0]\n",
      " [ 0  0  0  0 64  0  0  0  0  0]\n",
      " [ 0  0  0  0  0 71  0  1  0  1]\n",
      " [ 0  0  0  0  0  0 57  0  0  0]\n",
      " [ 0  0  0  0  0  0  0 61  0  1]\n",
      " [ 0  1  0  1  0  1  0  0 49  0]\n",
      " [ 0  0  0  0  1  0  0  0  1 66]]\n",
      "\n",
      "\n",
      "Classification Report:\n",
      "              precision    recall  f1-score   support\n",
      "\n",
      "          0       1.00      1.00      1.00        55\n",
      "          1       0.98      0.96      0.97        55\n",
      "          2       1.00      1.00      1.00        52\n",
      "          3       0.98      0.96      0.97        56\n",
      "          4       0.97      1.00      0.98        64\n",
      "          5       0.97      0.97      0.97        73\n",
      "          6       1.00      1.00      1.00        57\n",
      "          7       0.98      0.98      0.98        62\n",
      "          8       0.94      0.94      0.94        52\n",
      "          9       0.97      0.97      0.97        68\n",
      "\n",
      "avg / total       0.98      0.98      0.98       594\n",
      "\n"
     ]
    },
    {
     "name": "stderr",
     "output_type": "stream",
     "text": [
      "C:\\Program FilesC\\Program Files\\lib\\site-packages\\sklearn\\utils\\validation.py:578: DataConversionWarning: A column-vector y was passed when a 1d array was expected. Please change the shape of y to (n_samples, ), for example using ravel().\n",
      "  y = column_or_1d(y, warn=True)\n"
     ]
    }
   ],
   "source": [
    "svclassifier = SVC(kernel='linear', degree=8)  \n",
    "svclassifier.fit(X_train, y_train) \n",
    "y_pred1 = svclassifier.predict(X_test)\n",
    "print (\"kernel = 'linear'\\n\")\n",
    "print (\"Confusion Matrix:\\n\",confusion_matrix(y_test, y_pred1))\n",
    "print (\"\\n\\nClassification Report:\\n\", classification_report(y_test, y_pred1))"
   ]
  },
  {
   "cell_type": "code",
   "execution_count": 15,
   "metadata": {},
   "outputs": [
    {
     "name": "stdout",
     "output_type": "stream",
     "text": [
      "kernel = 'poly'\n",
      "\n",
      "Confusion Matrix:\n",
      " [[55  0  0  0  0  0  0  0  0  0]\n",
      " [ 0 50  1  0  0  0  0  0  4  0]\n",
      " [ 0  0 52  0  0  0  0  0  0  0]\n",
      " [ 0  0  0 54  0  1  0  0  1  0]\n",
      " [ 0  0  0  0 64  0  0  0  0  0]\n",
      " [ 0  0  0  0  1 72  0  0  0  0]\n",
      " [ 0  0  0  0  0  0 57  0  0  0]\n",
      " [ 0  0  0  0  0  0  0 61  0  1]\n",
      " [ 0  3  0  0  0  0  0  0 48  1]\n",
      " [ 0  0  0  2  1  0  0  0  0 65]]\n",
      "\n",
      "\n",
      "Classification Report:\n",
      "              precision    recall  f1-score   support\n",
      "\n",
      "          0       1.00      1.00      1.00        55\n",
      "          1       0.94      0.91      0.93        55\n",
      "          2       0.98      1.00      0.99        52\n",
      "          3       0.96      0.96      0.96        56\n",
      "          4       0.97      1.00      0.98        64\n",
      "          5       0.99      0.99      0.99        73\n",
      "          6       1.00      1.00      1.00        57\n",
      "          7       1.00      0.98      0.99        62\n",
      "          8       0.91      0.92      0.91        52\n",
      "          9       0.97      0.96      0.96        68\n",
      "\n",
      "avg / total       0.97      0.97      0.97       594\n",
      "\n"
     ]
    },
    {
     "name": "stderr",
     "output_type": "stream",
     "text": [
      "C:\\Program FilesC\\Program Files\\lib\\site-packages\\sklearn\\utils\\validation.py:578: DataConversionWarning: A column-vector y was passed when a 1d array was expected. Please change the shape of y to (n_samples, ), for example using ravel().\n",
      "  y = column_or_1d(y, warn=True)\n"
     ]
    }
   ],
   "source": [
    "svclassifier = SVC(kernel='poly', degree=8)  \n",
    "svclassifier.fit(X_train, y_train) \n",
    "y_pre2 = svclassifier.predict(X_test)\n",
    "print (\"kernel = 'poly'\\n\")\n",
    "print (\"Confusion Matrix:\\n\",confusion_matrix(y_test, y_pre2))\n",
    "print (\"\\n\\nClassification Report:\\n\", classification_report(y_test, y_pre2))"
   ]
  },
  {
   "cell_type": "code",
   "execution_count": 16,
   "metadata": {},
   "outputs": [
    {
     "name": "stderr",
     "output_type": "stream",
     "text": [
      "C:\\Program FilesC\\Program Files\\lib\\site-packages\\sklearn\\utils\\validation.py:578: DataConversionWarning: A column-vector y was passed when a 1d array was expected. Please change the shape of y to (n_samples, ), for example using ravel().\n",
      "  y = column_or_1d(y, warn=True)\n"
     ]
    },
    {
     "name": "stdout",
     "output_type": "stream",
     "text": [
      "When kernel = 'rbf'\n",
      "\n",
      "Confusion Matrix:\n",
      " [[26  0  0 29  0  0  0  0  0  0]\n",
      " [ 0 23  0 32  0  0  0  0  0  0]\n",
      " [ 0  0 34 18  0  0  0  0  0  0]\n",
      " [ 0  0  0 56  0  0  0  0  0  0]\n",
      " [ 0  0  0 44 20  0  0  0  0  0]\n",
      " [ 0  0  0 72  0  1  0  0  0  0]\n",
      " [ 0  0  0 17  0  0 40  0  0  0]\n",
      " [ 0  0  0 42  0  0  0 20  0  0]\n",
      " [ 0  0  0 37  0  0  0  0 15  0]\n",
      " [ 0  0  0 65  0  0  0  0  0  3]]\n",
      "\n",
      "\n",
      "Classification Report:\n",
      "              precision    recall  f1-score   support\n",
      "\n",
      "          0       1.00      0.47      0.64        55\n",
      "          1       1.00      0.42      0.59        55\n",
      "          2       1.00      0.65      0.79        52\n",
      "          3       0.14      1.00      0.24        56\n",
      "          4       1.00      0.31      0.48        64\n",
      "          5       1.00      0.01      0.03        73\n",
      "          6       1.00      0.70      0.82        57\n",
      "          7       1.00      0.32      0.49        62\n",
      "          8       1.00      0.29      0.45        52\n",
      "          9       1.00      0.04      0.08        68\n",
      "\n",
      "avg / total       0.92      0.40      0.44       594\n",
      "\n"
     ]
    }
   ],
   "source": [
    "svclassifier = SVC(kernel='rbf')  \n",
    "svclassifier.fit(X_train, y_train) \n",
    "y_pre3 = svclassifier.predict(X_test)\n",
    "print (\"When kernel = 'rbf'\\n\")\n",
    "print (\"Confusion Matrix:\\n\",confusion_matrix(y_test, y_pre3))\n",
    "print (\"\\n\\nClassification Report:\\n\", classification_report(y_test, y_pre3))"
   ]
  },
  {
   "cell_type": "code",
   "execution_count": 17,
   "metadata": {},
   "outputs": [
    {
     "name": "stderr",
     "output_type": "stream",
     "text": [
      "C:\\Program FilesC\\Program Files\\lib\\site-packages\\sklearn\\utils\\validation.py:578: DataConversionWarning: A column-vector y was passed when a 1d array was expected. Please change the shape of y to (n_samples, ), for example using ravel().\n",
      "  y = column_or_1d(y, warn=True)\n"
     ]
    },
    {
     "name": "stdout",
     "output_type": "stream",
     "text": [
      "When kernel = 'sigmoid'\n",
      "\n",
      "Confusion Matrix:\n",
      " [[26  0  0 29  0  0  0  0  0  0]\n",
      " [ 0 23  0 32  0  0  0  0  0  0]\n",
      " [ 0  0 34 18  0  0  0  0  0  0]\n",
      " [ 0  0  0 56  0  0  0  0  0  0]\n",
      " [ 0  0  0 44 20  0  0  0  0  0]\n",
      " [ 0  0  0 72  0  1  0  0  0  0]\n",
      " [ 0  0  0 17  0  0 40  0  0  0]\n",
      " [ 0  0  0 42  0  0  0 20  0  0]\n",
      " [ 0  0  0 37  0  0  0  0 15  0]\n",
      " [ 0  0  0 65  0  0  0  0  0  3]]\n",
      "\n",
      "\n",
      "Classification Report:\n",
      "              precision    recall  f1-score   support\n",
      "\n",
      "          0       1.00      0.47      0.64        55\n",
      "          1       1.00      0.42      0.59        55\n",
      "          2       1.00      0.65      0.79        52\n",
      "          3       0.14      1.00      0.24        56\n",
      "          4       1.00      0.31      0.48        64\n",
      "          5       1.00      0.01      0.03        73\n",
      "          6       1.00      0.70      0.82        57\n",
      "          7       1.00      0.32      0.49        62\n",
      "          8       1.00      0.29      0.45        52\n",
      "          9       1.00      0.04      0.08        68\n",
      "\n",
      "avg / total       0.92      0.40      0.44       594\n",
      "\n"
     ]
    }
   ],
   "source": [
    "svclassifiersvclass  = SVC(kernel='sigmoid')  \n",
    "svclassifier.fit(X_train, y_train) \n",
    "y_pre4 = svclassifier.predict(X_test)\n",
    "print (\"When kernel = 'sigmoid'\\n\")\n",
    "print (\"Confusion Matrix:\\n\",confusion_matrix(y_test, y_pre4))\n",
    "print (\"\\n\\nClassification Report:\\n\", classification_report(y_test, y_pre4))"
   ]
  },
  {
   "cell_type": "code",
   "execution_count": null,
   "metadata": {},
   "outputs": [],
   "source": []
  }
 ],
 "metadata": {
  "kernelspec": {
   "display_name": "Python 3",
   "language": "python",
   "name": "python3"
  },
  "language_info": {
   "codemirror_mode": {
    "name": "ipython",
    "version": 3
   },
   "file_extension": ".py",
   "mimetype": "text/x-python",
   "name": "python",
   "nbconvert_exporter": "python",
   "pygments_lexer": "ipython3",
   "version": "3.6.5"
  }
 },
 "nbformat": 4,
 "nbformat_minor": 2
}
